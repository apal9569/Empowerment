{
  "cells": [
    {
      "cell_type": "code",
      "execution_count": 8,
      "metadata": {
        "id": "eUEZhgu8my5w"
      },
      "outputs": [],
      "source": [
        "import torch\n",
        "import torch.nn as nn\n",
        "import torch.nn.functional as F\n",
        "import torch.optim as optim\n",
        "import numpy as np\n",
        "import math\n",
        "from torch.distributions.multivariate_normal import MultivariateNormal\n",
        "from torch.distributions.normal import Normal\n",
        "from torch.distributions.independent import Independent\n",
        "class AgentDecoder(nn.Module):\n",
        "  def __init__(self, horizon, seed, bound):\n",
        "    super(AgentDecoder, self).__init__()\n",
        "\n",
        "    self.dec_rnn = nn.LSTM(6, 100, 2)\n",
        "    self.dec_linear = nn.Linear(100, 10)\n",
        "    self.relu = nn.LeakyReLU()\n",
        "      \n",
        "    self.decoder_mu = nn.Linear(10, 2)\n",
        "    self.decoder_log_sigma = nn.Linear(10, 2)\n",
        "\n",
        "  def decoder(self, decoder_input_n):\n",
        "    h, _ = self.dec_rnn(decoder_input_n)\n",
        "    h = self.relu(self.dec_linear(h))\n",
        "    # h = self.dec(decoder_input_n)\n",
        "    mu = self.decoder_mu(h)\n",
        "    log_sigma = self.decoder_log_sigma(h)\n",
        "    return mu, log_sigma\n",
        "  \n",
        "  def decoderLosses(self, log_decoder):\n",
        "    \n",
        "    decoder_loss = -torch.mean(log_decoder)\n",
        "    return  decoder_loss \n",
        "\n",
        "  def forward(self, decoder_input_n, source_action):\n",
        "    decoder_mu, decoder_log_sigma = self.decoder(decoder_input_n)\n",
        "    decoder_dist = Independent(Normal(decoder_mu, torch.exp(decoder_log_sigma)), 1)\n",
        "    log_decoder = decoder_dist.log_prob(source_action)\n",
        "    return decoder_mu, decoder_log_sigma, log_decoder\n",
        "\n",
        "class AgentEmp(nn.Module):\n",
        "  def __init__(self, horizon, seed, bound):\n",
        "    super(AgentEmp, self).__init__()\n",
        "    self.emp_rnn = nn.LSTM(2, 50, 2)\n",
        "    self.emp_l1 = nn.Linear(50, 100)\n",
        "    self.emp_l2 = nn.Linear(100, 1)\n",
        "    self.relu = nn.LeakyReLU()\n",
        "\n",
        "  def forward(self, current_state):\n",
        "      h, _ = self.emp_rnn(current_state)\n",
        "      h = self.relu(self.emp_l1(h))\n",
        "      return self.emp_l2(h)\n",
        "\n",
        "\n",
        "class AgentSource(nn.Module):\n",
        "    def __init__(self, horizon, seed, bound):\n",
        "        super(AgentSource, self).__init__()\n",
        "        \n",
        "        self.initializer = nn.init.xavier_normal_\n",
        "       \n",
        "        self.agent_rnn = nn.LSTM(4, 100, 2)\n",
        "        self.agent_linear = nn.Linear(100, 10)\n",
        "        self.relu = nn.LeakyReLU()\n",
        "        \n",
        "        self.src_mu = nn.Linear(10, 2)\n",
        "        self.src_log_sigma = nn.Linear(10, 2)\n",
        "    \n",
        "    def source(self, source_input_n):\n",
        "        h,_ = self.agent_rnn(source_input_n)\n",
        "        h = self.relu(self.agent_linear(h))\n",
        "        log_sigma = self.src_log_sigma(h)\n",
        "        mu = self.src_mu(h)\n",
        "        return mu, log_sigma\n",
        "    \n",
        "    def sourceDistribution(self, source_action, src_mu, src_log_sigma):\n",
        "      \n",
        "      src_dist = Independent(Normal(src_mu, torch.exp(src_log_sigma)), 1)\n",
        "      log_src = src_dist.log_prob(source_action)\n",
        "      return log_src\n",
        "        \n",
        "    def forward(self, source_input_n):\n",
        "      src_mu, src_log_sigma = self.source(source_input_n)\n",
        "      return src_log_sigma, src_mu\n",
        "\n",
        "    def squaredLoss(self, beta, log_decoder, source_action, source_input_n, emp):\n",
        "        src_mu, src_log_sigma = self.forward(source_input_n)\n",
        "        log_src = self.sourceDistribution(source_action, src_mu, src_log_sigma)\n",
        "        # print(src_mu, src_log_sigma, log_src)\n",
        "        squared_loss = torch.mean(torch.square(beta * log_decoder - emp - log_src))\n",
        "        return  squared_loss\n"
      ]
    },
    {
      "cell_type": "code",
      "execution_count": 9,
      "metadata": {
        "id": "f2g1poJKmzgF"
      },
      "outputs": [],
      "source": [
        "\n",
        "import numpy as np\n",
        "\n",
        "class square_env:\n",
        "    def __init__(self,duration,radius,dimension):\n",
        "        self.R = radius\n",
        "        self.agent_dim = radius \n",
        "        self.dimension = dimension \n",
        "        self.eps = radius/100\n",
        "        self.lower_limit, self.upper_limit = self.agent_dim+self.eps, self.dimension-self.agent_dim-self.eps\n",
        "        print(self.lower_limit, self.upper_limit)\n",
        "        self.iter = 0\n",
        "        self.duration = duration \n",
        "        self.state_seq = np.zeros((self.duration,2))\n",
        "        self.obstacles = np.array([[xObst, 1] for xObst in range(1, 6)])\n",
        "                \n",
        "    def random_initialisation(self):\n",
        "            \n",
        "        self.state_seq[self.iter][0] = np.random.uniform(self.lower_limit, self.upper_limit)\n",
        "        self.state_seq[self.iter][1] = np.random.uniform(self.lower_limit, self.upper_limit)\n",
        "        \n",
        "        self.iter = 1\n",
        "        \n",
        "    def boundary_conditions(self):\n",
        "        \n",
        "        cond_X = not (self.state_seq[self.iter][0] >= self.lower_limit)*(self.state_seq[self.iter][0] <= self.upper_limit)\n",
        "        cond_Y = not (self.state_seq[self.iter][1] >= self.lower_limit)*(self.state_seq[self.iter][1] <= self.upper_limit)\n",
        "        if cond_X*cond_Y:\n",
        "          return cond_X*cond_Y\n",
        "        \n",
        "        obs = bool(( True if int(self.state_seq[self.iter][0]) in self.obstacles[:,0] else False)*( True if int(self.state_seq[self.iter][1]) in self.obstacles[:,1] else False))\n",
        "        # print(obs, cond_X*cond_Y)\n",
        "        return obs\n",
        "            \n",
        "    def step(self, action):\n",
        "                \n",
        "        self.state_seq[self.iter] = self.state_seq[self.iter-1] + action\n",
        "        if self.boundary_conditions():\n",
        "            self.state_seq[self.iter] -= action\n",
        "        # print(self.state_seq[self.iter], self.state_seq[self.iter-1], action)           \n",
        "        self.iter += 1\n",
        "        if self.iter > self.duration:\n",
        "            raise Exception(\"Game over!\") \n",
        "            \n",
        "    def env_response(self,actions,horizon):\n",
        "        for i in range(1,horizon):\n",
        "            self.step(actions[i])\n",
        "        # print(self.state_seq)\n",
        "        \n",
        "    def reset(self):\n",
        "        self.state_seq = np.zeros((self.duration,2))\n",
        "        self.iter = 0\n",
        "        "
      ]
    },
    {
      "cell_type": "code",
      "execution_count": 10,
      "metadata": {
        "colab": {
          "base_uri": "https://localhost:8080/"
        },
        "id": "Ny5I1-3M3zDw",
        "outputId": "291b24d2-b38e-4402-f83b-e19e03a6185f"
      },
      "outputs": [
        {
          "output_type": "stream",
          "name": "stdout",
          "text": [
            "mkdir: cannot create directory ‘plots’: File exists\n"
          ]
        }
      ],
      "source": [
        "!mkdir plots"
      ]
    },
    {
      "cell_type": "code",
      "execution_count": 11,
      "metadata": {
        "colab": {
          "base_uri": "https://localhost:8080/"
        },
        "id": "b1cNu0coLXpV",
        "outputId": "815b20cc-907b-4fdf-9e95-038098108301"
      },
      "outputs": [
        {
          "output_type": "stream",
          "name": "stdout",
          "text": [
            "mkdir: cannot create directory ‘weights’: File exists\n"
          ]
        }
      ],
      "source": [
        "!mkdir weights"
      ]
    },
    {
      "cell_type": "code",
      "execution_count": 14,
      "metadata": {
        "id": "TxGOTD4Zu0H7"
      },
      "outputs": [],
      "source": [
        "import seaborn as sns\n",
        "\n",
        "def heatmap(emp,env,num_image, res=1):\n",
        "    plt.clf()\n",
        "    \n",
        "    R, D = env.R, env.dimension\n",
        "    xy = np.mgrid[R:int(D)-R:res, R:int(D)-R:res].reshape(2,-1).T\n",
        "    L = int((D-2*R)/res)\n",
        "\n",
        "    mu = env.dimension/2.0 - R \n",
        "    sigma = ((2*mu)**2)/12\n",
        "    xy_ = (xy - mu)/sigma\n",
        "    \n",
        "    values = emp(torch.FloatTensor(xy_)).detach().numpy()\n",
        "    \n",
        "    val = values.reshape(L,L)\n",
        "    sns.heatmap(val[1:L,1:L],xticklabels=False,\\\n",
        "                yticklabels=False,cmap=\"YlGnBu\", cbar=False)\n",
        "    plt.savefig(\"plots/\" + str(num_image)+\".png\")"
      ]
    },
    {
      "cell_type": "code",
      "execution_count": null,
      "metadata": {
        "id": "RhofFB6PnK7M"
      },
      "outputs": [],
      "source": [
        "\n",
        "import matplotlib.pyplot as plt\n",
        "import numpy as np\n",
        "import copy\n",
        "\n",
        "# define training parameters:\n",
        "horizon = 2\n",
        "seed = 42\n",
        "bound = 0.5\n",
        "iters = 100000\n",
        "batch_size = 200\n",
        "lr = 0.01\n",
        "R = 0.0\n",
        "\n",
        "# define environment:\n",
        "env = square_env(duration=horizon,radius=R,dimension=10)\n",
        "\n",
        "ADec = AgentDecoder(horizon,seed,bound)\n",
        "ASrc = AgentSource(horizon,seed,bound)\n",
        "AEmp = AgentEmp(horizon,seed,bound)\n",
        "decoder_optimizer = optim.Adagrad(ADec.parameters(), lr=0.01)\n",
        "# src_slow_optimizer = optim.Adagrad(ASrc.parameters() , lr=0.0005)\n",
        "src_slow_optimizer = optim.Adagrad([\n",
        "                {'params': ASrc.parameters()},\n",
        "                {'params': AEmp.parameters(), 'lr': 5e-3}\n",
        "            ], lr=5e-3)\n",
        "\n",
        "loss_src = []\n",
        "loss_dec = []\n",
        "def main():\n",
        "    # betas = \n",
        "    beta = 1e-2\n",
        "    ## define inverse probability:\n",
        "    inverse_prob = 1./np.array([min(0.01 + i/iters,1) for i in range(iters)])\n",
        "\n",
        "    ### initialise the variables:\n",
        "\n",
        "    for count in range(iters):\n",
        "        env.reset()\n",
        "        env.random_initialisation()\n",
        "\n",
        "        mini_batch = np.zeros((batch_size*horizon,6))\n",
        "        action_batch = np.zeros((batch_size*horizon,2))\n",
        "        \n",
        "        mu = env.dimension/2.0 - R \n",
        "        sigma = ((2*mu)**2)/12 \n",
        "        for i in range(batch_size):\n",
        "\n",
        "            env.iter = 0\n",
        "\n",
        "            if np.random.rand() > 1/inverse_prob[count]:\n",
        "                actions = np.random.normal(0,bound,size = (horizon,2))\n",
        "\n",
        "                # net_actions = np.cumsum(actions,0)\n",
        "\n",
        "            else:\n",
        "                state = (env.state_seq[env.iter]-mu)/sigma\n",
        "                actions = np.zeros((horizon,2))\n",
        "\n",
        "                # net_actions = np.zeros((horizon,2))\n",
        "\n",
        "                for i in range(1,horizon):\n",
        "\n",
        "                    AS_n = np.concatenate((actions[i-1],state))\n",
        "                    with torch.no_grad():\n",
        "                      src_log_sigma, src_mu = ASrc(torch.FloatTensor(AS_n.reshape((1,4))))\n",
        "                    actions[i] = np.random.normal(src_mu.clone().detach().numpy(),np.exp(src_log_sigma.clone().detach().numpy())) \n",
        "                      # net_actions[i] = actions[i] + net_actions[i-1]\n",
        "                \n",
        "            # print(actions)\n",
        "            env.iter += 1 \n",
        "            env.env_response(actions,horizon)\n",
        "\n",
        "            ss_ = np.concatenate((env.state_seq[env.iter-horizon],env.state_seq[env.iter-1])).reshape((1,4))\n",
        "            S = np.repeat(ss_,horizon,axis=0)\n",
        "            # print(\"S\", S, env.state_seq, env.iter-horizon, env.iter-1, env.iter)\n",
        "            # print(\"action\", actions)\n",
        "        \n",
        "            axx_ =  np.concatenate((actions,S),axis=1)\n",
        "\n",
        "            mini_batch[horizon*i:horizon*(i+1)] = axx_\n",
        "            action_batch[horizon*i:horizon*(i+1)] = actions\n",
        "            # print(\"mini_batch[horizon*i:horizon*(i+1)]\", mini_batch[horizon*i:horizon*(i+1)])\n",
        "\n",
        "        mini_batch[:,2:6] = (mini_batch[:,2:6] - mu)/sigma\n",
        "       \n",
        "        decoder_mu, decoder_log_sigma, log_decoder = ADec(torch.FloatTensor(mini_batch), torch.FloatTensor(action_batch))\n",
        "        \n",
        "        decoderLoss = ADec.decoderLosses(log_decoder)\n",
        "        log_decoder_clone = copy.deepcopy(log_decoder.clone().detach().numpy())\n",
        "        decoderLoss_plot = copy.deepcopy(decoderLoss.clone().detach().numpy())\n",
        "        loss_dec.append(decoderLoss_plot)\n",
        "\n",
        "        \n",
        "        decoder_optimizer.zero_grad()\n",
        "        decoderLoss.backward()\n",
        "        decoder_optimizer.step()\n",
        "\n",
        "        emp = AEmp(torch.FloatTensor(mini_batch[:,2:4]))\n",
        "        src_slow_optimizer.zero_grad()\n",
        "        \n",
        "        squaredLoss = ASrc.squaredLoss(beta, torch.FloatTensor(log_decoder_clone), torch.FloatTensor(action_batch), torch.FloatTensor(mini_batch[:,0:4]), emp)\n",
        "        squaredLoss_plot = copy.deepcopy(squaredLoss.clone().detach().numpy())\n",
        "        loss_src.append(squaredLoss_plot)\n",
        "\n",
        "        squaredLoss.backward()\n",
        "        src_slow_optimizer.step()\n",
        "        if count % 500 == 0:\n",
        "            print(count)\n",
        "            heatmap(AEmp,env,count)\n",
        "\n",
        "main()\n"
      ]
    },
    {
      "cell_type": "code",
      "source": [
        "heatmap(AEmp,env,\"count\")\n"
      ],
      "metadata": {
        "id": "i0Q6lh9XWkoe"
      },
      "execution_count": null,
      "outputs": []
    },
    {
      "cell_type": "code",
      "execution_count": null,
      "metadata": {
        "id": "Su6jJAJQKKvN"
      },
      "outputs": [],
      "source": [
        "def plot_kernels(tensor, num_cols=2):\n",
        "    plt.clf()\n",
        "   \n",
        "    num_kernels = tensor.shape[0]\n",
        "    num_rows = 1+ num_kernels // num_cols\n",
        "   \n",
        "    plt.imshow(tensor)\n",
        "    plt.show()\n",
        "    \n",
        "    \n"
      ]
    },
    {
      "cell_type": "code",
      "source": [
        "# import seaborn as sns\n",
        "\n",
        "def heatmap(emp,env,num_image, res=1):\n",
        "    plt.clf()\n",
        "    \n",
        "    R, D = env.R, env.dimension\n",
        "    xy = np.mgrid[R:int(D)-R:res, R:int(D)-R:res].reshape(2,-1).T\n",
        "    L = int((D-2*R)/res)\n",
        "    # print(xy)\n",
        "\n",
        "    mu = env.dimension/2.0 - R \n",
        "    sigma = ((2*mu)**2)/12\n",
        "    xy_ = (xy - mu)/sigma\n",
        "    \n",
        "    values = emp(torch.FloatTensor(xy_)).detach().numpy()\n",
        "    # print(values)\n",
        "    # print(np.concatenate((xy,values),axis=1))\n",
        "    val = values.reshape(L,L)\n",
        "    sns.heatmap(val[1:L,0:L],xticklabels=False,\n",
        "                yticklabels=False,cmap=\"YlGnBu\", cbar=False)\n",
        "    plt.savefig(\"plots/\" + str(num_image)+\".png\")\n",
        "\n",
        "heatmap(AEmp,env,1111)\n"
      ],
      "metadata": {
        "id": "aG4IhSVlXzcn",
        "outputId": "faddbfb3-1dcb-4ba5-b89d-f58fff0250c1",
        "colab": {
          "base_uri": "https://localhost:8080/",
          "height": 406
        }
      },
      "execution_count": 12,
      "outputs": [
        {
          "output_type": "display_data",
          "data": {
            "text/plain": [
              "<Figure size 640x480 with 1 Axes>"
            ],
            "image/png": "[encoded data removed]"
          },
          "metadata": {}
        }
      ]
    },
    {
      "cell_type": "code",
      "execution_count": null,
      "metadata": {
        "id": "iLO7-SKwyQMO"
      },
      "outputs": [],
      "source": [
        "plt.plot(loss_src)"
      ]
    },
    {
      "cell_type": "code",
      "execution_count": null,
      "metadata": {
        "colab": {
          "base_uri": "https://localhost:8080/",
          "height": 448
        },
        "id": "midNxRELyw5A",
        "outputId": "8ed461f1-1ce4-45c2-bcd9-b71dc9da87d2"
      },
      "outputs": [
        {
          "data": {
            "text/plain": [
              "[<matplotlib.lines.Line2D at 0x7fcd512d0e80>]"
            ]
          },
          "execution_count": 100,
          "metadata": {},
          "output_type": "execute_result"
        },
        {
          "data": {
            "image/png": "[encoded data removed]",
            "text/plain": [
              "<Figure size 640x480 with 1 Axes>"
            ]
          },
          "metadata": {},
          "output_type": "display_data"
        }
      ],
      "source": [
        "plt.plot(loss_dec)"
      ]
    },
    {
      "cell_type": "code",
      "execution_count": null,
      "metadata": {
        "id": "gZwJyhE9_Xhc"
      },
      "outputs": [],
      "source": [
        "!zip plotsfinal.zip plots/*"
      ]
    },
    {
      "cell_type": "code",
      "execution_count": null,
      "metadata": {
        "id": "SispIuheErZA"
      },
      "outputs": [],
      "source": []
    }
  ],
  "metadata": {
    "colab": {
      "provenance": [],
      "authorship_tag": "ABX9TyM+LTPHEUpAF+6G9YTrQwxF"
    },
    "kernelspec": {
      "display_name": "Python 3",
      "name": "python3"
    },
    "language_info": {
      "name": "python"
    }
  },
  "nbformat": 4,
  "nbformat_minor": 0
}